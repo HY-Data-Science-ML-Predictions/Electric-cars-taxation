{
 "cells": [
  {
   "cell_type": "code",
   "execution_count": 9,
   "metadata": {},
   "outputs": [
    {
     "name": "stdout",
     "output_type": "stream",
     "text": [
      "{'version': '2.0', 'class': 'dataset', 'label': 'Ajoneuvojen ensirekisteröinnit (ml. Ahvenanmaa) muuttujina Ajoneuvoluokka, Vuosi ja Tiedot', 'source': 'Moottoriajoneuvojen ensirekisteröinnit, Tilastokeskus', 'updated': '2024-02-21T06:00:00Z', 'note': ['Sisältää Ahvenanmaan erillisrekisterin ajoneuvot. Vuodesta 1990 lähtien Ahvenanmaan erillisrekisterin ajoneuvot eivät ole mukana seuraavissa aikasarjoissa: luvanvaraiset autot, luvanvaraiset henkilö-, paketti- ja kuorma-autot, moottoripyörät > 125 cm3, moottorikelkat, kevyet nelipyörät L6e, nelipyörät L7e, kolmi- tai nelipyörät L5/L5e, matkailuperävaunut, puoliperävaunut ja muut perävaunut. ', 'Mopojen ja moottorikelkkojen rekisteröinti alkoi 1995. Ahvenanmaan moottorityökoneet sisältyvät traktoreihin. Puoliperävaunuihin sisältyvät myös erikoiskuljetuspuoliperävaunut ja säiliöpuoliperävaunut.', '....=Tietoa ei ole saatu', \"<A HREF='http://www.stat.fi/til/merek/meta.html' TARGET=_blank>Tilaston kuvaus</A>\\r\\n<AHREF='http://www.stat.fi/til/merek/laa.html' TARGET=_blank>Laatuselosteet</A>\\r\\n<A HREF='http://www.stat.fi/til/merek/kas.html' TARGET=_blank>Käsitteet ja määritelmät</A>\"], 'role': {'time': ['Vuosi'], 'metric': ['Tiedot']}, 'id': ['Ajoneuvoluokka', 'Vuosi', 'Tiedot'], 'size': [26, 18, 1], 'dimension': {'Ajoneuvoluokka': {'label': 'Ajoneuvoluokka', 'note': ['Ajoneuvoluokka'], 'category': {'index': {'00': 0, '0L': 1, '01': 2, '1L': 3, '02': 4, '2L': 5, '03': 6, '3L': 7, '04': 8, '4L': 9, '05': 10, '06': 11, '6K': 12, '07': 13, '08': 14, '09': 15, '10': 16, '11': 17, '12': 18, '13': 19, '14': 20, '15': 21, '16': 22, '17': 23, '18': 24, '19': 25}, 'label': {'00': 'Kaikki autot', '0L': 'Luvanvaraiset autot', '01': 'Henkilöautot', '1L': 'Luvanvaraiset henkilöautot', '02': 'Pakettiautot', '2L': 'Luvanvaraiset pakettiautot', '03': 'Kuorma-autot', '3L': 'Luvanvaraiset kuorma-autot', '04': 'Linja-autot', '4L': 'Luvanvaraiset linja-autot', '05': 'Erikoisautot', '06': 'Moottoripyörät', '6K': 'Moottoripyörät > 125 cm3', '07': 'Mopot', '08': 'Moottorikelkat', '09': 'Traktorit', '10': 'Moottorityökoneet', '11': 'Kolmi- tai nelipyörät L5/L5e', '12': 'Kevyet nelipyörät L6e', '13': 'Nelipyörät L7e', '14': 'Perävaunut yhteensä', '15': 'Matkailuperävaunut', '16': 'Puoliperävaunut', '17': 'Muut perävaunut yhteensä', '18': 'Muut perävaunut, yli 750 kg', '19': 'Muut perävaunut, kork. 750 kg'}}, 'extension': {'elimination': False, 'show': 'value'}}, 'Vuosi': {'label': 'Vuosi', 'category': {'index': {'1988': 0, '1989': 1, '1990': 2, '1991': 3, '1992': 4, '1993': 5, '1994': 6, '1995': 7, '1996': 8, '1997': 9, '1998': 10, '1999': 11, '2000': 12, '2001': 13, '2002': 14, '2003': 15, '2004': 16, '2005': 17}, 'label': {'1988': '1988', '1989': '1989', '1990': '1990', '1991': '1991', '1992': '1992', '1993': '1993', '1994': '1994', '1995': '1995', '1996': '1996', '1997': '1997', '1998': '1998', '1999': '1999', '2000': '2000', '2001': '2001', '2002': '2002', '2003': '2003', '2004': '2004', '2005': '2005'}}, 'extension': {'elimination': False, 'show': 'value'}}, 'Tiedot': {'label': 'Tiedot', 'category': {'index': {'N': 0}, 'label': {'N': 'Lukumäärä'}, 'note': {'N': ['Lukumäärä']}, 'unit': {'N': {'base': 'Ajoneuvojen Lukumäärä', 'decimals': 0}}}, 'extension': {'elimination': False, 'show': 'value'}}}, 'extension': {'px': {'tableid': 'statfin_merek_pxt_11cb', 'decimals': 0, 'official-statistics': True, 'aggregallowed': True, 'language': 'fi', 'description': '11cb -- Ajoneuvojen ensirekisteröinnit, 1960-2023', 'matrix': '003_11cb_2023', 'subject-code': 'LII'}, 'contact': [{'raw': \"liikenne.matkailu@tilastokeskus.fi#<A HREF='http://www.stat.fi/til/merek/yht.html' TARGET=_blank>Lisätietoja</A>#<A HREF='http://www.stat.fi/til/merek/index.html' TARGET=_blank>Tilaston kotisivu</A>\"}]}, 'value': [202550, 215766, 172103, 109930, 79499, 61254, 73135, 90748, 109285, 121503, 146015, 157065, 154019, 128082, 135917, 166946, 165370, 168731, 7467, 8966, 7399, 5476, 4203, 3899, 4648, 6248, 6370, 6371, 7086, 6759, 6729, 6366, 6644, 6739, 7117, 7301, 174479, 177610, 139742, 92979, 68891, 56003, 67434, 80145, 96163, 104963, 126386, 137017, 135243, 109911, 117486, 148020, 143160, 148670, 3552, 4399, 3725, 3193, 2864, 2925, 2860, 3070, 3287, 3261, 3236, 3216, 3212, 3099, 3400, 3116, 3106, 3323, 21602, 30480, 25184, 12758, 8138, 4139, 3380, 6712, 8925, 11763, 14125, 14339, 13141, 12942, 12974, 12836, 15868, 14173, 461, 840, 423, 383, 228, 213, 191, 312, 376, 364, 494, 397, 456, 492, 470, 445, 514, 587, 4252, 4904, 4194, 2188, 1230, 921, 2118, 3576, 3741, 4311, 4984, 5165, 5089, 4839, 4979, 5613, 5831, 5474, 2760, 3095, 2685, 1470, 850, 574, 1402, 2554, 2277, 2315, 2875, 2659, 2569, 2442, 2334, 2775, 3015, 3011, 570, 557, 453, 343, 201, 191, 203, 315, 456, 466, 520, 544, 546, 390, 478, 477, 511, 414, 544, 535, 432, 327, 193, 187, 195, 312, 430, 431, 481, 487, 492, 333, 440, 403, 482, 380, 1647, 2215, 2530, 1662, 1039, 0, 0, 0, 0, 0, 0, 0, 0, 0, 0, 0, 0, 0, 3709, 4464, 5096, 3223, 2029, 1232, 855, 1007, 1306, 2336, 3810, 5781, 5191, 4424, 4931, 6283, 7847, 9252, None, None, 2418, 1549, 808, 598, 409, 533, 930, 1862, 3088, 4740, 4117, 3482, 3997, 5154, 6405, 7779, None, None, None, None, None, None, None, 1258, 5181, 6041, 7132, 8135, 6458, 6749, 8924, 12860, 17944, 21082, None, None, None, None, None, None, None, 2460, 4792, 5530, 6115, 6742, 5516, 5947, 5606, 4598, 6123, 6008, 9172, 11317, 10254, 6094, 3310, 2612, 2962, 4146, 5012, 5935, 5504, 4727, 5123, 4997, 5152, 5394, 5081, 4562, 1239, 1331, 1218, 773, 372, 325, 729, 1055, 1181, 1401, 1598, 1697, 1666, 1602, 1502, 1668, 1833, 1805, None, None, None, None, None, None, None, None, None, None, None, None, None, None, None, None, 69, 33, None, None, None, None, None, None, None, None, None, None, None, None, None, None, 189, 399, 449, 711, None, None, None, None, None, None, None, None, None, None, None, None, None, None, None, None, 345, 1860, 31873, 35387, 30868, 23919, 17613, 16752, 17533, 16396, 19526, 22491, 25725, 26195, 27850, 27772, 29000, 31814, 34934, 37642, 6195, 7211, 5196, 2590, 1174, 472, 351, 396, 460, 546, 680, 914, 1000, 1010, 1176, 1410, 1736, 1942, 218, 557, 353, 268, 148, 312, 798, 936, 1176, 1493, 2229, 569, 516, 908, 1421, 1793, 1898, 2091, 25460, 27619, 25173, 20937, 16190, 15874, 16310, 14993, 17804, 20351, 22628, 24488, 26071, 25639, 26143, 28340, 30968, 33304, 2827, 2781, 3910, 2762, 1902, 1534, 1702, 1864, 2016, 2395, 3083, 3234, 3596, 3732, 3838, 4156, 4981, 5433, 22633, 24838, 21263, 18175, 14288, 14340, 14608, 13129, 15788, 17956, 19545, 21254, 22475, 21907, 22305, 24184, 25987, 27871], 'status': {'216': '....', '217': '....', '234': '....', '235': '....', '236': '....', '237': '....', '238': '....', '239': '....', '240': '....', '252': '....', '253': '....', '254': '....', '255': '....', '256': '....', '257': '....', '258': '....', '306': '....', '307': '....', '308': '....', '309': '....', '310': '....', '311': '....', '312': '....', '313': '....', '314': '....', '315': '....', '316': '....', '317': '....', '318': '....', '319': '....', '320': '....', '321': '....', '324': '....', '325': '....', '326': '....', '327': '....', '328': '....', '329': '....', '330': '....', '331': '....', '332': '....', '333': '....', '334': '....', '335': '....', '336': '....', '337': '....', '342': '....', '343': '....', '344': '....', '345': '....', '346': '....', '347': '....', '348': '....', '349': '....', '350': '....', '351': '....', '352': '....', '353': '....', '354': '....', '355': '....', '356': '....', '357': '....'}}\n"
     ]
    },
    {
     "ename": "KeyError",
     "evalue": "'Indicator'",
     "output_type": "error",
     "traceback": [
      "\u001b[0;31m---------------------------------------------------------------------------\u001b[0m",
      "\u001b[0;31mKeyError\u001b[0m                                  Traceback (most recent call last)",
      "Cell \u001b[0;32mIn[9], line 41\u001b[0m\n\u001b[1;32m     39\u001b[0m \u001b[38;5;66;03m# Extract dimensions (assuming 'Vuosi' and some other dimension, e.g., 'Indicator')\u001b[39;00m\n\u001b[1;32m     40\u001b[0m years \u001b[38;5;241m=\u001b[39m car_taxes[\u001b[38;5;124m'\u001b[39m\u001b[38;5;124mdimension\u001b[39m\u001b[38;5;124m'\u001b[39m][\u001b[38;5;124m'\u001b[39m\u001b[38;5;124mVuosi\u001b[39m\u001b[38;5;124m'\u001b[39m][\u001b[38;5;124m'\u001b[39m\u001b[38;5;124mcategory\u001b[39m\u001b[38;5;124m'\u001b[39m][\u001b[38;5;124m'\u001b[39m\u001b[38;5;124mlabel\u001b[39m\u001b[38;5;124m'\u001b[39m]\u001b[38;5;241m.\u001b[39mvalues()\n\u001b[0;32m---> 41\u001b[0m indicators \u001b[38;5;241m=\u001b[39m \u001b[43mcar_taxes\u001b[49m\u001b[43m[\u001b[49m\u001b[38;5;124;43m'\u001b[39;49m\u001b[38;5;124;43mdimension\u001b[39;49m\u001b[38;5;124;43m'\u001b[39;49m\u001b[43m]\u001b[49m\u001b[43m[\u001b[49m\u001b[38;5;124;43m'\u001b[39;49m\u001b[38;5;124;43mIndicator\u001b[39;49m\u001b[38;5;124;43m'\u001b[39;49m\u001b[43m]\u001b[49m[\u001b[38;5;124m'\u001b[39m\u001b[38;5;124mcategory\u001b[39m\u001b[38;5;124m'\u001b[39m][\u001b[38;5;124m'\u001b[39m\u001b[38;5;124mlabel\u001b[39m\u001b[38;5;124m'\u001b[39m]\u001b[38;5;241m.\u001b[39mvalues()  \u001b[38;5;66;03m# Adjust 'Indicator' as needed\u001b[39;00m\n\u001b[1;32m     43\u001b[0m \u001b[38;5;66;03m# Create a DataFrame\u001b[39;00m\n\u001b[1;32m     44\u001b[0m df \u001b[38;5;241m=\u001b[39m pd\u001b[38;5;241m.\u001b[39mDataFrame(values, columns\u001b[38;5;241m=\u001b[39m[\u001b[38;5;124m'\u001b[39m\u001b[38;5;124mValue\u001b[39m\u001b[38;5;124m'\u001b[39m])\n",
      "\u001b[0;31mKeyError\u001b[0m: 'Indicator'"
     ]
    }
   ],
   "source": [
    "from requests import post\n",
    "import pandas as pd\n",
    "\n",
    "from utils import create_year_list\n",
    "\n",
    "year_list = create_year_list(1988, 2005)\n",
    "year_list = list(year_list)\n",
    "\n",
    "query_for_89_95 = {\n",
    "  \"query\": [\n",
    "    {\n",
    "      \"code\": \"Vuosi\",\n",
    "      \"selection\": {\n",
    "        \"filter\": \"item\",\n",
    "        \"values\": year_list\n",
    "      }\n",
    "    }\n",
    "  ],\n",
    "  \"response\": {\n",
    "    \"format\": \"json-stat2\"\n",
    "  }\n",
    "}\n",
    "\n",
    "car_taxes = post('https://pxdata.stat.fi:443/PxWeb/api/v1/fi/StatFin/merek/statfin_merek_pxt_11cb.px',\n",
    "                 json=query_for_89_95)\n",
    "\n",
    "if car_taxes:\n",
    "    car_taxes = car_taxes.json()\n",
    "\n",
    "print(car_taxes)\n",
    "\n",
    "# df = pd.DataFrame(car_taxes)"
   ]
  }
 ],
 "metadata": {
  "kernelspec": {
   "display_name": "Python 3",
   "language": "python",
   "name": "python3"
  },
  "language_info": {
   "codemirror_mode": {
    "name": "ipython",
    "version": 3
   },
   "file_extension": ".py",
   "mimetype": "text/x-python",
   "name": "python",
   "nbconvert_exporter": "python",
   "pygments_lexer": "ipython3",
   "version": "3.10.12"
  }
 },
 "nbformat": 4,
 "nbformat_minor": 2
}
